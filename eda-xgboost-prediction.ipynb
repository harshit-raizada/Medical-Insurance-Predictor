{
 "cells": [
  {
   "cell_type": "code",
   "execution_count": 1,
   "id": "70663955",
   "metadata": {
    "_cell_guid": "b1076dfc-b9ad-4769-8c92-a6c4dae69d19",
    "_uuid": "8f2839f25d086af736a60e9eeb907d3b93b6e0e5",
    "execution": {
     "iopub.execute_input": "2023-07-12T18:47:19.836255Z",
     "iopub.status.busy": "2023-07-12T18:47:19.835748Z",
     "iopub.status.idle": "2023-07-12T18:47:19.857124Z",
     "shell.execute_reply": "2023-07-12T18:47:19.855795Z"
    },
    "papermill": {
     "duration": 0.043278,
     "end_time": "2023-07-12T18:47:19.859731",
     "exception": false,
     "start_time": "2023-07-12T18:47:19.816453",
     "status": "completed"
    },
    "tags": []
   },
   "outputs": [
    {
     "name": "stdout",
     "output_type": "stream",
     "text": [
      "/kaggle/input/medical-insurance-price-prediction/Medical_insurance.csv\n"
     ]
    }
   ],
   "source": [
    "# This Python 3 environment comes with many helpful analytics libraries installed\n",
    "# It is defined by the kaggle/python Docker image: https://github.com/kaggle/docker-python\n",
    "# For example, here's several helpful packages to load\n",
    "\n",
    "import numpy as np # linear algebra\n",
    "import pandas as pd # data processing, CSV file I/O (e.g. pd.read_csv)\n",
    "\n",
    "# Input data files are available in the read-only \"../input/\" directory\n",
    "# For example, running this (by clicking run or pressing Shift+Enter) will list all files under the input directory\n",
    "\n",
    "import os\n",
    "for dirname, _, filenames in os.walk('/kaggle/input'):\n",
    "    for filename in filenames:\n",
    "        print(os.path.join(dirname, filename))\n",
    "\n",
    "# You can write up to 20GB to the current directory (/kaggle/working/) that gets preserved as output when you create a version using \"Save & Run All\" \n",
    "# You can also write temporary files to /kaggle/temp/, but they won't be saved outside of the current session"
   ]
  },
  {
   "cell_type": "markdown",
   "id": "05c1150c",
   "metadata": {
    "papermill": {
     "duration": 0.013084,
     "end_time": "2023-07-12T18:47:19.888795",
     "exception": false,
     "start_time": "2023-07-12T18:47:19.875711",
     "status": "completed"
    },
    "tags": []
   },
   "source": [
    "Importing necessary libraries"
   ]
  },
  {
   "cell_type": "code",
   "execution_count": 2,
   "id": "79b3768d",
   "metadata": {
    "execution": {
     "iopub.execute_input": "2023-07-12T18:47:19.917873Z",
     "iopub.status.busy": "2023-07-12T18:47:19.917479Z",
     "iopub.status.idle": "2023-07-12T18:47:21.753655Z",
     "shell.execute_reply": "2023-07-12T18:47:21.752849Z"
    },
    "papermill": {
     "duration": 1.853338,
     "end_time": "2023-07-12T18:47:21.756202",
     "exception": false,
     "start_time": "2023-07-12T18:47:19.902864",
     "status": "completed"
    },
    "tags": []
   },
   "outputs": [
    {
     "name": "stderr",
     "output_type": "stream",
     "text": [
      "/opt/conda/lib/python3.10/site-packages/scipy/__init__.py:146: UserWarning: A NumPy version >=1.16.5 and <1.23.0 is required for this version of SciPy (detected version 1.23.5\n",
      "  warnings.warn(f\"A NumPy version >={np_minversion} and <{np_maxversion}\"\n"
     ]
    }
   ],
   "source": [
    "import seaborn as sns\n",
    "import matplotlib.pyplot as plt\n",
    "from xgboost import XGBRegressor\n",
    "from sklearn.metrics import r2_score\n",
    "from sklearn.metrics import mean_absolute_error\n",
    "from sklearn.model_selection import GridSearchCV\n",
    "from sklearn.model_selection import train_test_split"
   ]
  },
  {
   "cell_type": "markdown",
   "id": "d99921ae",
   "metadata": {
    "papermill": {
     "duration": 0.012228,
     "end_time": "2023-07-12T18:47:21.781067",
     "exception": false,
     "start_time": "2023-07-12T18:47:21.768839",
     "status": "completed"
    },
    "tags": []
   },
   "source": [
    "Reading data"
   ]
  },
  {
   "cell_type": "code",
   "execution_count": 3,
   "id": "8e8907fc",
   "metadata": {
    "execution": {
     "iopub.execute_input": "2023-07-12T18:47:21.808422Z",
     "iopub.status.busy": "2023-07-12T18:47:21.807734Z",
     "iopub.status.idle": "2023-07-12T18:47:21.834358Z",
     "shell.execute_reply": "2023-07-12T18:47:21.833512Z"
    },
    "papermill": {
     "duration": 0.043134,
     "end_time": "2023-07-12T18:47:21.836900",
     "exception": false,
     "start_time": "2023-07-12T18:47:21.793766",
     "status": "completed"
    },
    "tags": []
   },
   "outputs": [],
   "source": [
    "df = pd.read_csv('/kaggle/input/medical-insurance-price-prediction/Medical_insurance.csv')"
   ]
  },
  {
   "cell_type": "code",
   "execution_count": 4,
   "id": "9ec7132a",
   "metadata": {
    "execution": {
     "iopub.execute_input": "2023-07-12T18:47:21.863971Z",
     "iopub.status.busy": "2023-07-12T18:47:21.863299Z",
     "iopub.status.idle": "2023-07-12T18:47:21.889142Z",
     "shell.execute_reply": "2023-07-12T18:47:21.888356Z"
    },
    "papermill": {
     "duration": 0.041672,
     "end_time": "2023-07-12T18:47:21.891082",
     "exception": false,
     "start_time": "2023-07-12T18:47:21.849410",
     "status": "completed"
    },
    "tags": []
   },
   "outputs": [
    {
     "data": {
      "text/html": [
       "<div>\n",
       "<style scoped>\n",
       "    .dataframe tbody tr th:only-of-type {\n",
       "        vertical-align: middle;\n",
       "    }\n",
       "\n",
       "    .dataframe tbody tr th {\n",
       "        vertical-align: top;\n",
       "    }\n",
       "\n",
       "    .dataframe thead th {\n",
       "        text-align: right;\n",
       "    }\n",
       "</style>\n",
       "<table border=\"1\" class=\"dataframe\">\n",
       "  <thead>\n",
       "    <tr style=\"text-align: right;\">\n",
       "      <th></th>\n",
       "      <th>age</th>\n",
       "      <th>sex</th>\n",
       "      <th>bmi</th>\n",
       "      <th>children</th>\n",
       "      <th>smoker</th>\n",
       "      <th>region</th>\n",
       "      <th>charges</th>\n",
       "    </tr>\n",
       "  </thead>\n",
       "  <tbody>\n",
       "    <tr>\n",
       "      <th>2296</th>\n",
       "      <td>22</td>\n",
       "      <td>male</td>\n",
       "      <td>28.310</td>\n",
       "      <td>1</td>\n",
       "      <td>no</td>\n",
       "      <td>northwest</td>\n",
       "      <td>2639.04290</td>\n",
       "    </tr>\n",
       "    <tr>\n",
       "      <th>1177</th>\n",
       "      <td>40</td>\n",
       "      <td>female</td>\n",
       "      <td>27.400</td>\n",
       "      <td>1</td>\n",
       "      <td>no</td>\n",
       "      <td>southwest</td>\n",
       "      <td>6496.88600</td>\n",
       "    </tr>\n",
       "    <tr>\n",
       "      <th>2141</th>\n",
       "      <td>31</td>\n",
       "      <td>male</td>\n",
       "      <td>27.645</td>\n",
       "      <td>2</td>\n",
       "      <td>no</td>\n",
       "      <td>northeast</td>\n",
       "      <td>5031.26955</td>\n",
       "    </tr>\n",
       "    <tr>\n",
       "      <th>1614</th>\n",
       "      <td>41</td>\n",
       "      <td>female</td>\n",
       "      <td>31.635</td>\n",
       "      <td>1</td>\n",
       "      <td>no</td>\n",
       "      <td>northeast</td>\n",
       "      <td>7358.17565</td>\n",
       "    </tr>\n",
       "    <tr>\n",
       "      <th>1129</th>\n",
       "      <td>19</td>\n",
       "      <td>female</td>\n",
       "      <td>18.600</td>\n",
       "      <td>0</td>\n",
       "      <td>no</td>\n",
       "      <td>southwest</td>\n",
       "      <td>1728.89700</td>\n",
       "    </tr>\n",
       "    <tr>\n",
       "      <th>989</th>\n",
       "      <td>24</td>\n",
       "      <td>female</td>\n",
       "      <td>20.520</td>\n",
       "      <td>0</td>\n",
       "      <td>yes</td>\n",
       "      <td>northeast</td>\n",
       "      <td>14571.89080</td>\n",
       "    </tr>\n",
       "    <tr>\n",
       "      <th>2449</th>\n",
       "      <td>36</td>\n",
       "      <td>male</td>\n",
       "      <td>28.595</td>\n",
       "      <td>3</td>\n",
       "      <td>no</td>\n",
       "      <td>northwest</td>\n",
       "      <td>6548.19505</td>\n",
       "    </tr>\n",
       "    <tr>\n",
       "      <th>2152</th>\n",
       "      <td>47</td>\n",
       "      <td>male</td>\n",
       "      <td>32.300</td>\n",
       "      <td>1</td>\n",
       "      <td>no</td>\n",
       "      <td>southwest</td>\n",
       "      <td>8062.76400</td>\n",
       "    </tr>\n",
       "    <tr>\n",
       "      <th>1949</th>\n",
       "      <td>50</td>\n",
       "      <td>male</td>\n",
       "      <td>44.770</td>\n",
       "      <td>1</td>\n",
       "      <td>no</td>\n",
       "      <td>southeast</td>\n",
       "      <td>9058.73030</td>\n",
       "    </tr>\n",
       "    <tr>\n",
       "      <th>2731</th>\n",
       "      <td>30</td>\n",
       "      <td>male</td>\n",
       "      <td>35.300</td>\n",
       "      <td>0</td>\n",
       "      <td>yes</td>\n",
       "      <td>southwest</td>\n",
       "      <td>36837.46700</td>\n",
       "    </tr>\n",
       "  </tbody>\n",
       "</table>\n",
       "</div>"
      ],
      "text/plain": [
       "      age     sex     bmi  children smoker     region      charges\n",
       "2296   22    male  28.310         1     no  northwest   2639.04290\n",
       "1177   40  female  27.400         1     no  southwest   6496.88600\n",
       "2141   31    male  27.645         2     no  northeast   5031.26955\n",
       "1614   41  female  31.635         1     no  northeast   7358.17565\n",
       "1129   19  female  18.600         0     no  southwest   1728.89700\n",
       "989    24  female  20.520         0    yes  northeast  14571.89080\n",
       "2449   36    male  28.595         3     no  northwest   6548.19505\n",
       "2152   47    male  32.300         1     no  southwest   8062.76400\n",
       "1949   50    male  44.770         1     no  southeast   9058.73030\n",
       "2731   30    male  35.300         0    yes  southwest  36837.46700"
      ]
     },
     "execution_count": 4,
     "metadata": {},
     "output_type": "execute_result"
    }
   ],
   "source": [
    "df.sample(10)"
   ]
  },
  {
   "cell_type": "code",
   "execution_count": 5,
   "id": "21ef0a0c",
   "metadata": {
    "execution": {
     "iopub.execute_input": "2023-07-12T18:47:21.918853Z",
     "iopub.status.busy": "2023-07-12T18:47:21.918184Z",
     "iopub.status.idle": "2023-07-12T18:47:21.940998Z",
     "shell.execute_reply": "2023-07-12T18:47:21.939345Z"
    },
    "papermill": {
     "duration": 0.039354,
     "end_time": "2023-07-12T18:47:21.943279",
     "exception": false,
     "start_time": "2023-07-12T18:47:21.903925",
     "status": "completed"
    },
    "tags": []
   },
   "outputs": [
    {
     "name": "stdout",
     "output_type": "stream",
     "text": [
      "<class 'pandas.core.frame.DataFrame'>\n",
      "RangeIndex: 2772 entries, 0 to 2771\n",
      "Data columns (total 7 columns):\n",
      " #   Column    Non-Null Count  Dtype  \n",
      "---  ------    --------------  -----  \n",
      " 0   age       2772 non-null   int64  \n",
      " 1   sex       2772 non-null   object \n",
      " 2   bmi       2772 non-null   float64\n",
      " 3   children  2772 non-null   int64  \n",
      " 4   smoker    2772 non-null   object \n",
      " 5   region    2772 non-null   object \n",
      " 6   charges   2772 non-null   float64\n",
      "dtypes: float64(2), int64(2), object(3)\n",
      "memory usage: 151.7+ KB\n"
     ]
    }
   ],
   "source": [
    "df.info()"
   ]
  },
  {
   "cell_type": "code",
   "execution_count": 6,
   "id": "61602293",
   "metadata": {
    "execution": {
     "iopub.execute_input": "2023-07-12T18:47:21.970636Z",
     "iopub.status.busy": "2023-07-12T18:47:21.970241Z",
     "iopub.status.idle": "2023-07-12T18:47:21.976971Z",
     "shell.execute_reply": "2023-07-12T18:47:21.976035Z"
    },
    "papermill": {
     "duration": 0.022729,
     "end_time": "2023-07-12T18:47:21.978937",
     "exception": false,
     "start_time": "2023-07-12T18:47:21.956208",
     "status": "completed"
    },
    "tags": []
   },
   "outputs": [
    {
     "data": {
      "text/plain": [
       "array(['female', 'male'], dtype=object)"
      ]
     },
     "execution_count": 6,
     "metadata": {},
     "output_type": "execute_result"
    }
   ],
   "source": [
    "df['sex'].unique()"
   ]
  },
  {
   "cell_type": "code",
   "execution_count": 7,
   "id": "3853e594",
   "metadata": {
    "execution": {
     "iopub.execute_input": "2023-07-12T18:47:22.006186Z",
     "iopub.status.busy": "2023-07-12T18:47:22.005797Z",
     "iopub.status.idle": "2023-07-12T18:47:22.014657Z",
     "shell.execute_reply": "2023-07-12T18:47:22.013752Z"
    },
    "papermill": {
     "duration": 0.024917,
     "end_time": "2023-07-12T18:47:22.016616",
     "exception": false,
     "start_time": "2023-07-12T18:47:21.991699",
     "status": "completed"
    },
    "tags": []
   },
   "outputs": [
    {
     "data": {
      "text/plain": [
       "array([0, 1, 3, 2, 5, 4])"
      ]
     },
     "execution_count": 7,
     "metadata": {},
     "output_type": "execute_result"
    }
   ],
   "source": [
    "df['children'].unique()"
   ]
  },
  {
   "cell_type": "code",
   "execution_count": 8,
   "id": "438c4ab9",
   "metadata": {
    "execution": {
     "iopub.execute_input": "2023-07-12T18:47:22.045246Z",
     "iopub.status.busy": "2023-07-12T18:47:22.044581Z",
     "iopub.status.idle": "2023-07-12T18:47:22.050767Z",
     "shell.execute_reply": "2023-07-12T18:47:22.049763Z"
    },
    "papermill": {
     "duration": 0.022716,
     "end_time": "2023-07-12T18:47:22.052808",
     "exception": false,
     "start_time": "2023-07-12T18:47:22.030092",
     "status": "completed"
    },
    "tags": []
   },
   "outputs": [
    {
     "data": {
      "text/plain": [
       "array(['yes', 'no'], dtype=object)"
      ]
     },
     "execution_count": 8,
     "metadata": {},
     "output_type": "execute_result"
    }
   ],
   "source": [
    "df['smoker'].unique()"
   ]
  },
  {
   "cell_type": "code",
   "execution_count": 9,
   "id": "860a82a7",
   "metadata": {
    "execution": {
     "iopub.execute_input": "2023-07-12T18:47:22.081730Z",
     "iopub.status.busy": "2023-07-12T18:47:22.081337Z",
     "iopub.status.idle": "2023-07-12T18:47:22.088023Z",
     "shell.execute_reply": "2023-07-12T18:47:22.087053Z"
    },
    "papermill": {
     "duration": 0.023798,
     "end_time": "2023-07-12T18:47:22.090207",
     "exception": false,
     "start_time": "2023-07-12T18:47:22.066409",
     "status": "completed"
    },
    "tags": []
   },
   "outputs": [
    {
     "data": {
      "text/plain": [
       "array(['southwest', 'southeast', 'northwest', 'northeast'], dtype=object)"
      ]
     },
     "execution_count": 9,
     "metadata": {},
     "output_type": "execute_result"
    }
   ],
   "source": [
    "df['region'].unique()"
   ]
  },
  {
   "cell_type": "code",
   "execution_count": 10,
   "id": "3b38744b",
   "metadata": {
    "execution": {
     "iopub.execute_input": "2023-07-12T18:47:22.118897Z",
     "iopub.status.busy": "2023-07-12T18:47:22.118493Z",
     "iopub.status.idle": "2023-07-12T18:47:22.142042Z",
     "shell.execute_reply": "2023-07-12T18:47:22.141042Z"
    },
    "papermill": {
     "duration": 0.040483,
     "end_time": "2023-07-12T18:47:22.144273",
     "exception": false,
     "start_time": "2023-07-12T18:47:22.103790",
     "status": "completed"
    },
    "tags": []
   },
   "outputs": [
    {
     "data": {
      "text/html": [
       "<div>\n",
       "<style scoped>\n",
       "    .dataframe tbody tr th:only-of-type {\n",
       "        vertical-align: middle;\n",
       "    }\n",
       "\n",
       "    .dataframe tbody tr th {\n",
       "        vertical-align: top;\n",
       "    }\n",
       "\n",
       "    .dataframe thead th {\n",
       "        text-align: right;\n",
       "    }\n",
       "</style>\n",
       "<table border=\"1\" class=\"dataframe\">\n",
       "  <thead>\n",
       "    <tr style=\"text-align: right;\">\n",
       "      <th></th>\n",
       "      <th>age</th>\n",
       "      <th>bmi</th>\n",
       "      <th>children</th>\n",
       "      <th>charges</th>\n",
       "    </tr>\n",
       "  </thead>\n",
       "  <tbody>\n",
       "    <tr>\n",
       "      <th>count</th>\n",
       "      <td>2772.000000</td>\n",
       "      <td>2772.000000</td>\n",
       "      <td>2772.000000</td>\n",
       "      <td>2772.000000</td>\n",
       "    </tr>\n",
       "    <tr>\n",
       "      <th>mean</th>\n",
       "      <td>39.109668</td>\n",
       "      <td>30.701349</td>\n",
       "      <td>1.101732</td>\n",
       "      <td>13261.369959</td>\n",
       "    </tr>\n",
       "    <tr>\n",
       "      <th>std</th>\n",
       "      <td>14.081459</td>\n",
       "      <td>6.129449</td>\n",
       "      <td>1.214806</td>\n",
       "      <td>12151.768945</td>\n",
       "    </tr>\n",
       "    <tr>\n",
       "      <th>min</th>\n",
       "      <td>18.000000</td>\n",
       "      <td>15.960000</td>\n",
       "      <td>0.000000</td>\n",
       "      <td>1121.873900</td>\n",
       "    </tr>\n",
       "    <tr>\n",
       "      <th>25%</th>\n",
       "      <td>26.000000</td>\n",
       "      <td>26.220000</td>\n",
       "      <td>0.000000</td>\n",
       "      <td>4687.797000</td>\n",
       "    </tr>\n",
       "    <tr>\n",
       "      <th>50%</th>\n",
       "      <td>39.000000</td>\n",
       "      <td>30.447500</td>\n",
       "      <td>1.000000</td>\n",
       "      <td>9333.014350</td>\n",
       "    </tr>\n",
       "    <tr>\n",
       "      <th>75%</th>\n",
       "      <td>51.000000</td>\n",
       "      <td>34.770000</td>\n",
       "      <td>2.000000</td>\n",
       "      <td>16577.779500</td>\n",
       "    </tr>\n",
       "    <tr>\n",
       "      <th>max</th>\n",
       "      <td>64.000000</td>\n",
       "      <td>53.130000</td>\n",
       "      <td>5.000000</td>\n",
       "      <td>63770.428010</td>\n",
       "    </tr>\n",
       "  </tbody>\n",
       "</table>\n",
       "</div>"
      ],
      "text/plain": [
       "               age          bmi     children       charges\n",
       "count  2772.000000  2772.000000  2772.000000   2772.000000\n",
       "mean     39.109668    30.701349     1.101732  13261.369959\n",
       "std      14.081459     6.129449     1.214806  12151.768945\n",
       "min      18.000000    15.960000     0.000000   1121.873900\n",
       "25%      26.000000    26.220000     0.000000   4687.797000\n",
       "50%      39.000000    30.447500     1.000000   9333.014350\n",
       "75%      51.000000    34.770000     2.000000  16577.779500\n",
       "max      64.000000    53.130000     5.000000  63770.428010"
      ]
     },
     "execution_count": 10,
     "metadata": {},
     "output_type": "execute_result"
    }
   ],
   "source": [
    "df.describe()"
   ]
  },
  {
   "cell_type": "code",
   "execution_count": 11,
   "id": "6bf75fb3",
   "metadata": {
    "execution": {
     "iopub.execute_input": "2023-07-12T18:47:22.173378Z",
     "iopub.status.busy": "2023-07-12T18:47:22.172500Z",
     "iopub.status.idle": "2023-07-12T18:47:22.564309Z",
     "shell.execute_reply": "2023-07-12T18:47:22.563457Z"
    },
    "papermill": {
     "duration": 0.408642,
     "end_time": "2023-07-12T18:47:22.566546",
     "exception": false,
     "start_time": "2023-07-12T18:47:22.157904",
     "status": "completed"
    },
    "tags": []
   },
   "outputs": [
    {
     "data": {
      "text/plain": [
       "<Axes: xlabel='region', ylabel='charges'>"
      ]
     },
     "execution_count": 11,
     "metadata": {},
     "output_type": "execute_result"
    },
    {
     "data": {
      "image/png": "[encoded data removed]",
      "text/plain": [
       "<Figure size 640x480 with 1 Axes>"
      ]
     },
     "metadata": {},
     "output_type": "display_data"
    }
   ],
   "source": [
    "sns.barplot(data = df, y = 'charges', x = 'region')"
   ]
  },
  {
   "cell_type": "markdown",
   "id": "924ac54d",
   "metadata": {
    "papermill": {
     "duration": 0.013877,
     "end_time": "2023-07-12T18:47:22.594913",
     "exception": false,
     "start_time": "2023-07-12T18:47:22.581036",
     "status": "completed"
    },
    "tags": []
   },
   "source": [
    "Southeast region is most costly in terms of medical insurance"
   ]
  },
  {
   "cell_type": "code",
   "execution_count": 12,
   "id": "af5c774d",
   "metadata": {
    "execution": {
     "iopub.execute_input": "2023-07-12T18:47:22.625088Z",
     "iopub.status.busy": "2023-07-12T18:47:22.624673Z",
     "iopub.status.idle": "2023-07-12T18:47:22.913799Z",
     "shell.execute_reply": "2023-07-12T18:47:22.912617Z"
    },
    "papermill": {
     "duration": 0.307131,
     "end_time": "2023-07-12T18:47:22.916385",
     "exception": false,
     "start_time": "2023-07-12T18:47:22.609254",
     "status": "completed"
    },
    "tags": []
   },
   "outputs": [
    {
     "data": {
      "text/plain": [
       "<Axes: xlabel='sex', ylabel='charges'>"
      ]
     },
     "execution_count": 12,
     "metadata": {},
     "output_type": "execute_result"
    },
    {
     "data": {
      "image/png": "[encoded data removed]",
      "text/plain": [
       "<Figure size 640x480 with 1 Axes>"
      ]
     },
     "metadata": {},
     "output_type": "display_data"
    }
   ],
   "source": [
    "sns.barplot(data = df, y = 'charges', x = 'sex')"
   ]
  },
  {
   "cell_type": "markdown",
   "id": "118f11b8",
   "metadata": {
    "papermill": {
     "duration": 0.014319,
     "end_time": "2023-07-12T18:47:22.945836",
     "exception": false,
     "start_time": "2023-07-12T18:47:22.931517",
     "status": "completed"
    },
    "tags": []
   },
   "source": [
    "Males are charged higher in medical insurance compared to Females"
   ]
  },
  {
   "cell_type": "code",
   "execution_count": 13,
   "id": "5c750a43",
   "metadata": {
    "execution": {
     "iopub.execute_input": "2023-07-12T18:47:22.976328Z",
     "iopub.status.busy": "2023-07-12T18:47:22.975966Z",
     "iopub.status.idle": "2023-07-12T18:47:23.254915Z",
     "shell.execute_reply": "2023-07-12T18:47:23.253851Z"
    },
    "papermill": {
     "duration": 0.296802,
     "end_time": "2023-07-12T18:47:23.257188",
     "exception": false,
     "start_time": "2023-07-12T18:47:22.960386",
     "status": "completed"
    },
    "tags": []
   },
   "outputs": [
    {
     "data": {
      "text/plain": [
       "<Axes: xlabel='smoker', ylabel='charges'>"
      ]
     },
     "execution_count": 13,
     "metadata": {},
     "output_type": "execute_result"
    },
    {
     "data": {
      "image/png": "[encoded data removed]",
      "text/plain": [
       "<Figure size 640x480 with 1 Axes>"
      ]
     },
     "metadata": {},
     "output_type": "display_data"
    }
   ],
   "source": [
    "sns.barplot(data = df, y = 'charges', x = 'smoker')"
   ]
  },
  {
   "cell_type": "markdown",
   "id": "f8514280",
   "metadata": {
    "papermill": {
     "duration": 0.014762,
     "end_time": "2023-07-12T18:47:23.287271",
     "exception": false,
     "start_time": "2023-07-12T18:47:23.272509",
     "status": "completed"
    },
    "tags": []
   },
   "source": [
    "People who smoke are charged higher insurance, which is self-explanatory"
   ]
  },
  {
   "cell_type": "code",
   "execution_count": 14,
   "id": "7a607210",
   "metadata": {
    "execution": {
     "iopub.execute_input": "2023-07-12T18:47:23.319032Z",
     "iopub.status.busy": "2023-07-12T18:47:23.318608Z",
     "iopub.status.idle": "2023-07-12T18:47:23.752001Z",
     "shell.execute_reply": "2023-07-12T18:47:23.750878Z"
    },
    "papermill": {
     "duration": 0.451961,
     "end_time": "2023-07-12T18:47:23.754225",
     "exception": false,
     "start_time": "2023-07-12T18:47:23.302264",
     "status": "completed"
    },
    "tags": []
   },
   "outputs": [
    {
     "data": {
      "text/plain": [
       "<Axes: xlabel='children', ylabel='charges'>"
      ]
     },
     "execution_count": 14,
     "metadata": {},
     "output_type": "execute_result"
    },
    {
     "data": {
      "image/png": "[encoded data removed]",
      "text/plain": [
       "<Figure size 640x480 with 1 Axes>"
      ]
     },
     "metadata": {},
     "output_type": "display_data"
    }
   ],
   "source": [
    "sns.barplot(data = df, y = 'charges', x = 'children')"
   ]
  },
  {
   "cell_type": "markdown",
   "id": "4f122d0d",
   "metadata": {
    "papermill": {
     "duration": 0.014943,
     "end_time": "2023-07-12T18:47:23.784371",
     "exception": false,
     "start_time": "2023-07-12T18:47:23.769428",
     "status": "completed"
    },
    "tags": []
   },
   "source": [
    "There is no correlation b/w no. of childeren and insurance price"
   ]
  },
  {
   "cell_type": "code",
   "execution_count": 15,
   "id": "b5e0a7c7",
   "metadata": {
    "execution": {
     "iopub.execute_input": "2023-07-12T18:47:23.816747Z",
     "iopub.status.busy": "2023-07-12T18:47:23.815792Z",
     "iopub.status.idle": "2023-07-12T18:47:24.107141Z",
     "shell.execute_reply": "2023-07-12T18:47:24.105905Z"
    },
    "papermill": {
     "duration": 0.310838,
     "end_time": "2023-07-12T18:47:24.110247",
     "exception": false,
     "start_time": "2023-07-12T18:47:23.799409",
     "status": "completed"
    },
    "tags": []
   },
   "outputs": [
    {
     "data": {
      "text/plain": [
       "<Axes: xlabel='children', ylabel='charges'>"
      ]
     },
     "execution_count": 15,
     "metadata": {},
     "output_type": "execute_result"
    },
    {
     "data": {
      "image/png": "[encoded data removed]",
      "text/plain": [
       "<Figure size 640x480 with 1 Axes>"
      ]
     },
     "metadata": {},
     "output_type": "display_data"
    }
   ],
   "source": [
    "sns.scatterplot(data = df, y = 'charges', x = 'children')"
   ]
  },
  {
   "cell_type": "markdown",
   "id": "3e5aafaf",
   "metadata": {
    "papermill": {
     "duration": 0.015699,
     "end_time": "2023-07-12T18:47:24.142268",
     "exception": false,
     "start_time": "2023-07-12T18:47:24.126569",
     "status": "completed"
    },
    "tags": []
   },
   "source": [
    "Can be viewed using a scatterplot aswell"
   ]
  },
  {
   "cell_type": "code",
   "execution_count": 16,
   "id": "6b868dfe",
   "metadata": {
    "execution": {
     "iopub.execute_input": "2023-07-12T18:47:24.176619Z",
     "iopub.status.busy": "2023-07-12T18:47:24.175957Z",
     "iopub.status.idle": "2023-07-12T18:47:25.977377Z",
     "shell.execute_reply": "2023-07-12T18:47:25.976317Z"
    },
    "papermill": {
     "duration": 1.821197,
     "end_time": "2023-07-12T18:47:25.979497",
     "exception": false,
     "start_time": "2023-07-12T18:47:24.158300",
     "status": "completed"
    },
    "tags": []
   },
   "outputs": [
    {
     "data": {
      "image/png": "[encoded data removed]",
      "text/plain": [
       "<Figure size 1500x700 with 1 Axes>"
      ]
     },
     "metadata": {},
     "output_type": "display_data"
    }
   ],
   "source": [
    "plt.figure(figsize = (15, 7))\n",
    "plt.title('Charges by Age', fontsize = 14)\n",
    "sns.barplot(data = df, x = 'age', y = 'charges', palette='coolwarm')\n",
    "plt.xlabel('Age', fontsize = 14)\n",
    "plt.ylabel('Charge', fontsize = 14)\n",
    "plt.xticks(fontsize = 12)\n",
    "plt.yticks(fontsize = 12)\n",
    "plt.tight_layout()\n",
    "plt.show()"
   ]
  },
  {
   "cell_type": "markdown",
   "id": "6c3b80e5",
   "metadata": {
    "papermill": {
     "duration": 0.016217,
     "end_time": "2023-07-12T18:47:26.012192",
     "exception": false,
     "start_time": "2023-07-12T18:47:25.995975",
     "status": "completed"
    },
    "tags": []
   },
   "source": [
    "64 years old person gets charged the highest insurance, which is again self-explanatory"
   ]
  },
  {
   "cell_type": "code",
   "execution_count": 17,
   "id": "a83a601f",
   "metadata": {
    "execution": {
     "iopub.execute_input": "2023-07-12T18:47:26.047181Z",
     "iopub.status.busy": "2023-07-12T18:47:26.046800Z",
     "iopub.status.idle": "2023-07-12T18:47:26.065059Z",
     "shell.execute_reply": "2023-07-12T18:47:26.064166Z"
    },
    "papermill": {
     "duration": 0.038517,
     "end_time": "2023-07-12T18:47:26.067176",
     "exception": false,
     "start_time": "2023-07-12T18:47:26.028659",
     "status": "completed"
    },
    "tags": []
   },
   "outputs": [
    {
     "data": {
      "text/html": [
       "<div>\n",
       "<style scoped>\n",
       "    .dataframe tbody tr th:only-of-type {\n",
       "        vertical-align: middle;\n",
       "    }\n",
       "\n",
       "    .dataframe tbody tr th {\n",
       "        vertical-align: top;\n",
       "    }\n",
       "\n",
       "    .dataframe thead th {\n",
       "        text-align: right;\n",
       "    }\n",
       "</style>\n",
       "<table border=\"1\" class=\"dataframe\">\n",
       "  <thead>\n",
       "    <tr style=\"text-align: right;\">\n",
       "      <th></th>\n",
       "      <th>age</th>\n",
       "      <th>sex</th>\n",
       "      <th>bmi</th>\n",
       "      <th>children</th>\n",
       "      <th>smoker</th>\n",
       "      <th>region</th>\n",
       "      <th>charges</th>\n",
       "      <th>age_group</th>\n",
       "    </tr>\n",
       "  </thead>\n",
       "  <tbody>\n",
       "    <tr>\n",
       "      <th>0</th>\n",
       "      <td>19</td>\n",
       "      <td>female</td>\n",
       "      <td>27.900</td>\n",
       "      <td>0</td>\n",
       "      <td>yes</td>\n",
       "      <td>southwest</td>\n",
       "      <td>16884.92400</td>\n",
       "      <td>0-20</td>\n",
       "    </tr>\n",
       "    <tr>\n",
       "      <th>1</th>\n",
       "      <td>18</td>\n",
       "      <td>male</td>\n",
       "      <td>33.770</td>\n",
       "      <td>1</td>\n",
       "      <td>no</td>\n",
       "      <td>southeast</td>\n",
       "      <td>1725.55230</td>\n",
       "      <td>0-20</td>\n",
       "    </tr>\n",
       "    <tr>\n",
       "      <th>2</th>\n",
       "      <td>28</td>\n",
       "      <td>male</td>\n",
       "      <td>33.000</td>\n",
       "      <td>3</td>\n",
       "      <td>no</td>\n",
       "      <td>southeast</td>\n",
       "      <td>4449.46200</td>\n",
       "      <td>21-30</td>\n",
       "    </tr>\n",
       "    <tr>\n",
       "      <th>3</th>\n",
       "      <td>33</td>\n",
       "      <td>male</td>\n",
       "      <td>22.705</td>\n",
       "      <td>0</td>\n",
       "      <td>no</td>\n",
       "      <td>northwest</td>\n",
       "      <td>21984.47061</td>\n",
       "      <td>31-40</td>\n",
       "    </tr>\n",
       "    <tr>\n",
       "      <th>4</th>\n",
       "      <td>32</td>\n",
       "      <td>male</td>\n",
       "      <td>28.880</td>\n",
       "      <td>0</td>\n",
       "      <td>no</td>\n",
       "      <td>northwest</td>\n",
       "      <td>3866.85520</td>\n",
       "      <td>31-40</td>\n",
       "    </tr>\n",
       "  </tbody>\n",
       "</table>\n",
       "</div>"
      ],
      "text/plain": [
       "   age     sex     bmi  children smoker     region      charges age_group\n",
       "0   19  female  27.900         0    yes  southwest  16884.92400      0-20\n",
       "1   18    male  33.770         1     no  southeast   1725.55230      0-20\n",
       "2   28    male  33.000         3     no  southeast   4449.46200     21-30\n",
       "3   33    male  22.705         0     no  northwest  21984.47061     31-40\n",
       "4   32    male  28.880         0     no  northwest   3866.85520     31-40"
      ]
     },
     "execution_count": 17,
     "metadata": {},
     "output_type": "execute_result"
    }
   ],
   "source": [
    "age_bins = [0, 20, 30, 40, 50, 60, 100] \n",
    "age_labels = ['0-20', '21-30', '31-40', '41-50', '51-60', '61+']  \n",
    "\n",
    "df['age_group'] = pd.cut(df['age'], bins = age_bins, labels = age_labels, right = False)\n",
    "\n",
    "df.head()"
   ]
  },
  {
   "cell_type": "markdown",
   "id": "9a634d7d",
   "metadata": {
    "papermill": {
     "duration": 0.016993,
     "end_time": "2023-07-12T18:47:26.101394",
     "exception": false,
     "start_time": "2023-07-12T18:47:26.084401",
     "status": "completed"
    },
    "tags": []
   },
   "source": [
    "Created bins so that visualization is easier to understand, grouping them makes it easier to interpret "
   ]
  },
  {
   "cell_type": "code",
   "execution_count": 18,
   "id": "0b2ff546",
   "metadata": {
    "execution": {
     "iopub.execute_input": "2023-07-12T18:47:26.137549Z",
     "iopub.status.busy": "2023-07-12T18:47:26.137163Z",
     "iopub.status.idle": "2023-07-12T18:47:26.644947Z",
     "shell.execute_reply": "2023-07-12T18:47:26.643857Z"
    },
    "papermill": {
     "duration": 0.52842,
     "end_time": "2023-07-12T18:47:26.647217",
     "exception": false,
     "start_time": "2023-07-12T18:47:26.118797",
     "status": "completed"
    },
    "tags": []
   },
   "outputs": [
    {
     "data": {
      "image/png": "[encoded data removed]",
      "text/plain": [
       "<Figure size 1500x700 with 1 Axes>"
      ]
     },
     "metadata": {},
     "output_type": "display_data"
    }
   ],
   "source": [
    "plt.figure(figsize = (15, 7))\n",
    "plt.title('Charges by Age', fontsize = 14)\n",
    "sns.barplot(data = df, x = 'age_group', y = 'charges', palette='coolwarm')\n",
    "plt.xlabel('Age Category', fontsize = 14)\n",
    "plt.ylabel('Charges', fontsize = 14)\n",
    "plt.xticks(fontsize = 12)\n",
    "plt.yticks(fontsize = 12)\n",
    "plt.tight_layout()\n",
    "plt.show()"
   ]
  },
  {
   "cell_type": "code",
   "execution_count": 19,
   "id": "b18bfe2d",
   "metadata": {
    "execution": {
     "iopub.execute_input": "2023-07-12T18:47:26.683304Z",
     "iopub.status.busy": "2023-07-12T18:47:26.682931Z",
     "iopub.status.idle": "2023-07-12T18:47:26.702198Z",
     "shell.execute_reply": "2023-07-12T18:47:26.701261Z"
    },
    "papermill": {
     "duration": 0.03981,
     "end_time": "2023-07-12T18:47:26.704181",
     "exception": false,
     "start_time": "2023-07-12T18:47:26.664371",
     "status": "completed"
    },
    "tags": []
   },
   "outputs": [
    {
     "data": {
      "text/html": [
       "<div>\n",
       "<style scoped>\n",
       "    .dataframe tbody tr th:only-of-type {\n",
       "        vertical-align: middle;\n",
       "    }\n",
       "\n",
       "    .dataframe tbody tr th {\n",
       "        vertical-align: top;\n",
       "    }\n",
       "\n",
       "    .dataframe thead th {\n",
       "        text-align: right;\n",
       "    }\n",
       "</style>\n",
       "<table border=\"1\" class=\"dataframe\">\n",
       "  <thead>\n",
       "    <tr style=\"text-align: right;\">\n",
       "      <th></th>\n",
       "      <th>age</th>\n",
       "      <th>sex</th>\n",
       "      <th>bmi</th>\n",
       "      <th>children</th>\n",
       "      <th>smoker</th>\n",
       "      <th>region</th>\n",
       "      <th>charges</th>\n",
       "      <th>age_group</th>\n",
       "      <th>bmi_category</th>\n",
       "    </tr>\n",
       "  </thead>\n",
       "  <tbody>\n",
       "    <tr>\n",
       "      <th>0</th>\n",
       "      <td>19</td>\n",
       "      <td>female</td>\n",
       "      <td>27.900</td>\n",
       "      <td>0</td>\n",
       "      <td>yes</td>\n",
       "      <td>southwest</td>\n",
       "      <td>16884.92400</td>\n",
       "      <td>0-20</td>\n",
       "      <td>Overweight</td>\n",
       "    </tr>\n",
       "    <tr>\n",
       "      <th>1</th>\n",
       "      <td>18</td>\n",
       "      <td>male</td>\n",
       "      <td>33.770</td>\n",
       "      <td>1</td>\n",
       "      <td>no</td>\n",
       "      <td>southeast</td>\n",
       "      <td>1725.55230</td>\n",
       "      <td>0-20</td>\n",
       "      <td>Obese Class I</td>\n",
       "    </tr>\n",
       "    <tr>\n",
       "      <th>2</th>\n",
       "      <td>28</td>\n",
       "      <td>male</td>\n",
       "      <td>33.000</td>\n",
       "      <td>3</td>\n",
       "      <td>no</td>\n",
       "      <td>southeast</td>\n",
       "      <td>4449.46200</td>\n",
       "      <td>21-30</td>\n",
       "      <td>Obese Class I</td>\n",
       "    </tr>\n",
       "    <tr>\n",
       "      <th>3</th>\n",
       "      <td>33</td>\n",
       "      <td>male</td>\n",
       "      <td>22.705</td>\n",
       "      <td>0</td>\n",
       "      <td>no</td>\n",
       "      <td>northwest</td>\n",
       "      <td>21984.47061</td>\n",
       "      <td>31-40</td>\n",
       "      <td>Normal</td>\n",
       "    </tr>\n",
       "    <tr>\n",
       "      <th>4</th>\n",
       "      <td>32</td>\n",
       "      <td>male</td>\n",
       "      <td>28.880</td>\n",
       "      <td>0</td>\n",
       "      <td>no</td>\n",
       "      <td>northwest</td>\n",
       "      <td>3866.85520</td>\n",
       "      <td>31-40</td>\n",
       "      <td>Overweight</td>\n",
       "    </tr>\n",
       "  </tbody>\n",
       "</table>\n",
       "</div>"
      ],
      "text/plain": [
       "   age     sex     bmi  children smoker     region      charges age_group  \\\n",
       "0   19  female  27.900         0    yes  southwest  16884.92400      0-20   \n",
       "1   18    male  33.770         1     no  southeast   1725.55230      0-20   \n",
       "2   28    male  33.000         3     no  southeast   4449.46200     21-30   \n",
       "3   33    male  22.705         0     no  northwest  21984.47061     31-40   \n",
       "4   32    male  28.880         0     no  northwest   3866.85520     31-40   \n",
       "\n",
       "    bmi_category  \n",
       "0     Overweight  \n",
       "1  Obese Class I  \n",
       "2  Obese Class I  \n",
       "3         Normal  \n",
       "4     Overweight  "
      ]
     },
     "execution_count": 19,
     "metadata": {},
     "output_type": "execute_result"
    }
   ],
   "source": [
    "bmi_bins = [0, 18.5, 25, 30, 35, 40, 50]  \n",
    "bmi_labels = ['Underweight', 'Normal', 'Overweight', 'Obese Class I', 'Obese Class II', 'Obese Class III'] \n",
    "\n",
    "df['bmi_category'] = pd.cut(df['bmi'], bins = bmi_bins, labels = bmi_labels, right = False)\n",
    "\n",
    "df.head()"
   ]
  },
  {
   "cell_type": "markdown",
   "id": "626c5015",
   "metadata": {
    "papermill": {
     "duration": 0.018237,
     "end_time": "2023-07-12T18:47:26.739924",
     "exception": false,
     "start_time": "2023-07-12T18:47:26.721687",
     "status": "completed"
    },
    "tags": []
   },
   "source": [
    "Similarly created bins for BMI because BMI is usually measured in these categories so it makes more sense for businesses"
   ]
  },
  {
   "cell_type": "code",
   "execution_count": 20,
   "id": "2850ccc7",
   "metadata": {
    "execution": {
     "iopub.execute_input": "2023-07-12T18:47:26.776442Z",
     "iopub.status.busy": "2023-07-12T18:47:26.776072Z",
     "iopub.status.idle": "2023-07-12T18:47:27.321079Z",
     "shell.execute_reply": "2023-07-12T18:47:27.319906Z"
    },
    "papermill": {
     "duration": 0.566249,
     "end_time": "2023-07-12T18:47:27.323558",
     "exception": false,
     "start_time": "2023-07-12T18:47:26.757309",
     "status": "completed"
    },
    "tags": []
   },
   "outputs": [
    {
     "data": {
      "image/png": "[encoded data removed]",
      "text/plain": [
       "<Figure size 1500x700 with 1 Axes>"
      ]
     },
     "metadata": {},
     "output_type": "display_data"
    }
   ],
   "source": [
    "plt.figure(figsize = (15, 7))\n",
    "plt.title('Charges by BMI', fontsize = 14)\n",
    "sns.barplot(data = df, x = 'bmi_category', y = 'charges', palette = 'coolwarm')\n",
    "plt.xlabel('BMI Category', fontsize = 14)\n",
    "plt.ylabel('Charges', fontsize = 14)\n",
    "plt.xticks(fontsize = 12)\n",
    "plt.yticks(fontsize = 12)\n",
    "plt.tight_layout()\n",
    "plt.show()"
   ]
  },
  {
   "cell_type": "code",
   "execution_count": 21,
   "id": "37c7e92f",
   "metadata": {
    "execution": {
     "iopub.execute_input": "2023-07-12T18:47:27.362318Z",
     "iopub.status.busy": "2023-07-12T18:47:27.361356Z",
     "iopub.status.idle": "2023-07-12T18:47:27.901051Z",
     "shell.execute_reply": "2023-07-12T18:47:27.899881Z"
    },
    "papermill": {
     "duration": 0.561393,
     "end_time": "2023-07-12T18:47:27.903286",
     "exception": false,
     "start_time": "2023-07-12T18:47:27.341893",
     "status": "completed"
    },
    "tags": []
   },
   "outputs": [
    {
     "data": {
      "image/png": "[encoded data removed]",
      "text/plain": [
       "<Figure size 1000x600 with 1 Axes>"
      ]
     },
     "metadata": {},
     "output_type": "display_data"
    }
   ],
   "source": [
    "sns.set_style(\"whitegrid\")\n",
    "\n",
    "plt.figure(figsize = (10, 6))\n",
    "sns.countplot(data = df, x = 'bmi_category', palette = 'Set2')\n",
    "plt.xlabel('BMI Category', fontsize = 14)\n",
    "plt.ylabel('Count', fontsize = 14)\n",
    "plt.title('Distribution of BMI Categories', fontsize = 14)\n",
    "plt.xticks(rotation = 45, ha = 'right', fontsize = 10)\n",
    "plt.tight_layout()\n",
    "plt.show()"
   ]
  },
  {
   "cell_type": "markdown",
   "id": "2e51cf88",
   "metadata": {
    "papermill": {
     "duration": 0.01862,
     "end_time": "2023-07-12T18:47:27.941072",
     "exception": false,
     "start_time": "2023-07-12T18:47:27.922452",
     "status": "completed"
    },
    "tags": []
   },
   "source": [
    "Most of the people are overweight & obese class I which is not a great sign for medical insurance"
   ]
  },
  {
   "cell_type": "code",
   "execution_count": 22,
   "id": "948e5fa8",
   "metadata": {
    "execution": {
     "iopub.execute_input": "2023-07-12T18:47:27.980686Z",
     "iopub.status.busy": "2023-07-12T18:47:27.980309Z",
     "iopub.status.idle": "2023-07-12T18:47:27.988016Z",
     "shell.execute_reply": "2023-07-12T18:47:27.986914Z"
    },
    "papermill": {
     "duration": 0.030127,
     "end_time": "2023-07-12T18:47:27.990307",
     "exception": false,
     "start_time": "2023-07-12T18:47:27.960180",
     "status": "completed"
    },
    "tags": []
   },
   "outputs": [
    {
     "name": "stderr",
     "output_type": "stream",
     "text": [
      "/tmp/ipykernel_20/1214047907.py:1: FutureWarning: The default value of numeric_only in DataFrame.corr is deprecated. In a future version, it will default to False. Select only valid columns or specify the value of numeric_only to silence this warning.\n",
      "  corr_mat = df.corr()\n"
     ]
    }
   ],
   "source": [
    "corr_mat = df.corr()"
   ]
  },
  {
   "cell_type": "code",
   "execution_count": 23,
   "id": "1dffe7ef",
   "metadata": {
    "execution": {
     "iopub.execute_input": "2023-07-12T18:47:28.030229Z",
     "iopub.status.busy": "2023-07-12T18:47:28.029603Z",
     "iopub.status.idle": "2023-07-12T18:47:28.472032Z",
     "shell.execute_reply": "2023-07-12T18:47:28.471220Z"
    },
    "papermill": {
     "duration": 0.464708,
     "end_time": "2023-07-12T18:47:28.474069",
     "exception": false,
     "start_time": "2023-07-12T18:47:28.009361",
     "status": "completed"
    },
    "tags": []
   },
   "outputs": [
    {
     "data": {
      "image/png": "[encoded data removed]",
      "text/plain": [
       "<Figure size 640x480 with 2 Axes>"
      ]
     },
     "metadata": {},
     "output_type": "display_data"
    }
   ],
   "source": [
    "plt.title('Correlation Heatmap', fontsize = 14)\n",
    "sns.heatmap(corr_mat, annot = True, cmap = 'coolwarm', linewidths = 1, linecolor = 'black', fmt = '.2f')\n",
    "plt.tight_layout()\n",
    "plt.show()"
   ]
  },
  {
   "cell_type": "markdown",
   "id": "1cb5825a",
   "metadata": {
    "papermill": {
     "duration": 0.019115,
     "end_time": "2023-07-12T18:47:28.512599",
     "exception": false,
     "start_time": "2023-07-12T18:47:28.493484",
     "status": "completed"
    },
    "tags": []
   },
   "source": [
    "Using heatmap one can clearly interpret some points:\n",
    "- Age and Charges are clearly correlated as Age increases the charge also increases\n",
    "- BMI and Children are not at all related\n",
    "- BMI and Charges are also related\n",
    "- Children and Charges are not related"
   ]
  },
  {
   "cell_type": "code",
   "execution_count": 24,
   "id": "5307542b",
   "metadata": {
    "execution": {
     "iopub.execute_input": "2023-07-12T18:47:28.553897Z",
     "iopub.status.busy": "2023-07-12T18:47:28.553454Z",
     "iopub.status.idle": "2023-07-12T18:47:28.568732Z",
     "shell.execute_reply": "2023-07-12T18:47:28.567660Z"
    },
    "papermill": {
     "duration": 0.038634,
     "end_time": "2023-07-12T18:47:28.570883",
     "exception": false,
     "start_time": "2023-07-12T18:47:28.532249",
     "status": "completed"
    },
    "tags": []
   },
   "outputs": [
    {
     "data": {
      "text/html": [
       "<div>\n",
       "<style scoped>\n",
       "    .dataframe tbody tr th:only-of-type {\n",
       "        vertical-align: middle;\n",
       "    }\n",
       "\n",
       "    .dataframe tbody tr th {\n",
       "        vertical-align: top;\n",
       "    }\n",
       "\n",
       "    .dataframe thead th {\n",
       "        text-align: right;\n",
       "    }\n",
       "</style>\n",
       "<table border=\"1\" class=\"dataframe\">\n",
       "  <thead>\n",
       "    <tr style=\"text-align: right;\">\n",
       "      <th></th>\n",
       "      <th>age</th>\n",
       "      <th>sex</th>\n",
       "      <th>bmi</th>\n",
       "      <th>children</th>\n",
       "      <th>smoker</th>\n",
       "      <th>region</th>\n",
       "      <th>charges</th>\n",
       "      <th>age_group</th>\n",
       "      <th>bmi_category</th>\n",
       "    </tr>\n",
       "  </thead>\n",
       "  <tbody>\n",
       "    <tr>\n",
       "      <th>0</th>\n",
       "      <td>19</td>\n",
       "      <td>female</td>\n",
       "      <td>27.900</td>\n",
       "      <td>0</td>\n",
       "      <td>yes</td>\n",
       "      <td>southwest</td>\n",
       "      <td>16884.92400</td>\n",
       "      <td>0-20</td>\n",
       "      <td>Overweight</td>\n",
       "    </tr>\n",
       "    <tr>\n",
       "      <th>1</th>\n",
       "      <td>18</td>\n",
       "      <td>male</td>\n",
       "      <td>33.770</td>\n",
       "      <td>1</td>\n",
       "      <td>no</td>\n",
       "      <td>southeast</td>\n",
       "      <td>1725.55230</td>\n",
       "      <td>0-20</td>\n",
       "      <td>Obese Class I</td>\n",
       "    </tr>\n",
       "    <tr>\n",
       "      <th>2</th>\n",
       "      <td>28</td>\n",
       "      <td>male</td>\n",
       "      <td>33.000</td>\n",
       "      <td>3</td>\n",
       "      <td>no</td>\n",
       "      <td>southeast</td>\n",
       "      <td>4449.46200</td>\n",
       "      <td>21-30</td>\n",
       "      <td>Obese Class I</td>\n",
       "    </tr>\n",
       "    <tr>\n",
       "      <th>3</th>\n",
       "      <td>33</td>\n",
       "      <td>male</td>\n",
       "      <td>22.705</td>\n",
       "      <td>0</td>\n",
       "      <td>no</td>\n",
       "      <td>northwest</td>\n",
       "      <td>21984.47061</td>\n",
       "      <td>31-40</td>\n",
       "      <td>Normal</td>\n",
       "    </tr>\n",
       "    <tr>\n",
       "      <th>4</th>\n",
       "      <td>32</td>\n",
       "      <td>male</td>\n",
       "      <td>28.880</td>\n",
       "      <td>0</td>\n",
       "      <td>no</td>\n",
       "      <td>northwest</td>\n",
       "      <td>3866.85520</td>\n",
       "      <td>31-40</td>\n",
       "      <td>Overweight</td>\n",
       "    </tr>\n",
       "  </tbody>\n",
       "</table>\n",
       "</div>"
      ],
      "text/plain": [
       "   age     sex     bmi  children smoker     region      charges age_group  \\\n",
       "0   19  female  27.900         0    yes  southwest  16884.92400      0-20   \n",
       "1   18    male  33.770         1     no  southeast   1725.55230      0-20   \n",
       "2   28    male  33.000         3     no  southeast   4449.46200     21-30   \n",
       "3   33    male  22.705         0     no  northwest  21984.47061     31-40   \n",
       "4   32    male  28.880         0     no  northwest   3866.85520     31-40   \n",
       "\n",
       "    bmi_category  \n",
       "0     Overweight  \n",
       "1  Obese Class I  \n",
       "2  Obese Class I  \n",
       "3         Normal  \n",
       "4     Overweight  "
      ]
     },
     "execution_count": 24,
     "metadata": {},
     "output_type": "execute_result"
    }
   ],
   "source": [
    "df.head()"
   ]
  },
  {
   "cell_type": "markdown",
   "id": "1bb03c9d",
   "metadata": {
    "papermill": {
     "duration": 0.018944,
     "end_time": "2023-07-12T18:47:28.609235",
     "exception": false,
     "start_time": "2023-07-12T18:47:28.590291",
     "status": "completed"
    },
    "tags": []
   },
   "source": [
    "Do not require bins for further processing so removing them"
   ]
  },
  {
   "cell_type": "code",
   "execution_count": 25,
   "id": "03e5cee7",
   "metadata": {
    "execution": {
     "iopub.execute_input": "2023-07-12T18:47:28.650027Z",
     "iopub.status.busy": "2023-07-12T18:47:28.649263Z",
     "iopub.status.idle": "2023-07-12T18:47:28.654806Z",
     "shell.execute_reply": "2023-07-12T18:47:28.654090Z"
    },
    "papermill": {
     "duration": 0.028601,
     "end_time": "2023-07-12T18:47:28.657090",
     "exception": false,
     "start_time": "2023-07-12T18:47:28.628489",
     "status": "completed"
    },
    "tags": []
   },
   "outputs": [],
   "source": [
    "df = df.iloc[:, 0:7]"
   ]
  },
  {
   "cell_type": "markdown",
   "id": "c6f46321",
   "metadata": {
    "papermill": {
     "duration": 0.018984,
     "end_time": "2023-07-12T18:47:28.695398",
     "exception": false,
     "start_time": "2023-07-12T18:47:28.676414",
     "status": "completed"
    },
    "tags": []
   },
   "source": [
    "Encoding"
   ]
  },
  {
   "cell_type": "code",
   "execution_count": 26,
   "id": "f17659e6",
   "metadata": {
    "execution": {
     "iopub.execute_input": "2023-07-12T18:47:28.736102Z",
     "iopub.status.busy": "2023-07-12T18:47:28.735663Z",
     "iopub.status.idle": "2023-07-12T18:47:28.745555Z",
     "shell.execute_reply": "2023-07-12T18:47:28.744548Z"
    },
    "papermill": {
     "duration": 0.033404,
     "end_time": "2023-07-12T18:47:28.748210",
     "exception": false,
     "start_time": "2023-07-12T18:47:28.714806",
     "status": "completed"
    },
    "tags": []
   },
   "outputs": [],
   "source": [
    "df['smoker'] = df['smoker'].replace({'yes' : 1, 'no' : 0})\n",
    "df['sex'] = df['sex'].replace({'male' : 1, 'female' : 0})"
   ]
  },
  {
   "cell_type": "code",
   "execution_count": 27,
   "id": "b8cbcbc9",
   "metadata": {
    "execution": {
     "iopub.execute_input": "2023-07-12T18:47:28.789446Z",
     "iopub.status.busy": "2023-07-12T18:47:28.789077Z",
     "iopub.status.idle": "2023-07-12T18:47:28.795368Z",
     "shell.execute_reply": "2023-07-12T18:47:28.794191Z"
    },
    "papermill": {
     "duration": 0.029133,
     "end_time": "2023-07-12T18:47:28.797403",
     "exception": false,
     "start_time": "2023-07-12T18:47:28.768270",
     "status": "completed"
    },
    "tags": []
   },
   "outputs": [],
   "source": [
    "df.drop(columns = 'region', inplace = True)"
   ]
  },
  {
   "cell_type": "markdown",
   "id": "b20631a2",
   "metadata": {
    "papermill": {
     "duration": 0.019226,
     "end_time": "2023-07-12T18:47:28.836034",
     "exception": false,
     "start_time": "2023-07-12T18:47:28.816808",
     "status": "completed"
    },
    "tags": []
   },
   "source": [
    "Region is not all contributing to the Y target feature"
   ]
  },
  {
   "cell_type": "code",
   "execution_count": 28,
   "id": "bf42109d",
   "metadata": {
    "execution": {
     "iopub.execute_input": "2023-07-12T18:47:28.876964Z",
     "iopub.status.busy": "2023-07-12T18:47:28.876338Z",
     "iopub.status.idle": "2023-07-12T18:47:28.886580Z",
     "shell.execute_reply": "2023-07-12T18:47:28.885883Z"
    },
    "papermill": {
     "duration": 0.033033,
     "end_time": "2023-07-12T18:47:28.888455",
     "exception": false,
     "start_time": "2023-07-12T18:47:28.855422",
     "status": "completed"
    },
    "tags": []
   },
   "outputs": [
    {
     "data": {
      "text/html": [
       "<div>\n",
       "<style scoped>\n",
       "    .dataframe tbody tr th:only-of-type {\n",
       "        vertical-align: middle;\n",
       "    }\n",
       "\n",
       "    .dataframe tbody tr th {\n",
       "        vertical-align: top;\n",
       "    }\n",
       "\n",
       "    .dataframe thead th {\n",
       "        text-align: right;\n",
       "    }\n",
       "</style>\n",
       "<table border=\"1\" class=\"dataframe\">\n",
       "  <thead>\n",
       "    <tr style=\"text-align: right;\">\n",
       "      <th></th>\n",
       "      <th>age</th>\n",
       "      <th>sex</th>\n",
       "      <th>bmi</th>\n",
       "      <th>children</th>\n",
       "      <th>smoker</th>\n",
       "      <th>charges</th>\n",
       "    </tr>\n",
       "  </thead>\n",
       "  <tbody>\n",
       "    <tr>\n",
       "      <th>0</th>\n",
       "      <td>19</td>\n",
       "      <td>0</td>\n",
       "      <td>27.900</td>\n",
       "      <td>0</td>\n",
       "      <td>1</td>\n",
       "      <td>16884.92400</td>\n",
       "    </tr>\n",
       "    <tr>\n",
       "      <th>1</th>\n",
       "      <td>18</td>\n",
       "      <td>1</td>\n",
       "      <td>33.770</td>\n",
       "      <td>1</td>\n",
       "      <td>0</td>\n",
       "      <td>1725.55230</td>\n",
       "    </tr>\n",
       "    <tr>\n",
       "      <th>2</th>\n",
       "      <td>28</td>\n",
       "      <td>1</td>\n",
       "      <td>33.000</td>\n",
       "      <td>3</td>\n",
       "      <td>0</td>\n",
       "      <td>4449.46200</td>\n",
       "    </tr>\n",
       "    <tr>\n",
       "      <th>3</th>\n",
       "      <td>33</td>\n",
       "      <td>1</td>\n",
       "      <td>22.705</td>\n",
       "      <td>0</td>\n",
       "      <td>0</td>\n",
       "      <td>21984.47061</td>\n",
       "    </tr>\n",
       "    <tr>\n",
       "      <th>4</th>\n",
       "      <td>32</td>\n",
       "      <td>1</td>\n",
       "      <td>28.880</td>\n",
       "      <td>0</td>\n",
       "      <td>0</td>\n",
       "      <td>3866.85520</td>\n",
       "    </tr>\n",
       "  </tbody>\n",
       "</table>\n",
       "</div>"
      ],
      "text/plain": [
       "   age  sex     bmi  children  smoker      charges\n",
       "0   19    0  27.900         0       1  16884.92400\n",
       "1   18    1  33.770         1       0   1725.55230\n",
       "2   28    1  33.000         3       0   4449.46200\n",
       "3   33    1  22.705         0       0  21984.47061\n",
       "4   32    1  28.880         0       0   3866.85520"
      ]
     },
     "execution_count": 28,
     "metadata": {},
     "output_type": "execute_result"
    }
   ],
   "source": [
    "df.head()"
   ]
  },
  {
   "cell_type": "code",
   "execution_count": 29,
   "id": "a25095b5",
   "metadata": {
    "execution": {
     "iopub.execute_input": "2023-07-12T18:47:28.930758Z",
     "iopub.status.busy": "2023-07-12T18:47:28.930074Z",
     "iopub.status.idle": "2023-07-12T18:47:28.935597Z",
     "shell.execute_reply": "2023-07-12T18:47:28.934828Z"
    },
    "papermill": {
     "duration": 0.029724,
     "end_time": "2023-07-12T18:47:28.937700",
     "exception": false,
     "start_time": "2023-07-12T18:47:28.907976",
     "status": "completed"
    },
    "tags": []
   },
   "outputs": [],
   "source": [
    "X = df.drop(columns = ['charges', 'children', 'sex'])\n",
    "y = df['charges']"
   ]
  },
  {
   "cell_type": "markdown",
   "id": "8b3cdb86",
   "metadata": {
    "papermill": {
     "duration": 0.019621,
     "end_time": "2023-07-12T18:47:28.976963",
     "exception": false,
     "start_time": "2023-07-12T18:47:28.957342",
     "status": "completed"
    },
    "tags": []
   },
   "source": [
    "Selected only these 3 features because only they contribute much to the Y target"
   ]
  },
  {
   "cell_type": "code",
   "execution_count": 30,
   "id": "3cf1d40e",
   "metadata": {
    "execution": {
     "iopub.execute_input": "2023-07-12T18:47:29.018502Z",
     "iopub.status.busy": "2023-07-12T18:47:29.017762Z",
     "iopub.status.idle": "2023-07-12T18:47:29.024229Z",
     "shell.execute_reply": "2023-07-12T18:47:29.023199Z"
    },
    "papermill": {
     "duration": 0.029839,
     "end_time": "2023-07-12T18:47:29.026187",
     "exception": false,
     "start_time": "2023-07-12T18:47:28.996348",
     "status": "completed"
    },
    "tags": []
   },
   "outputs": [],
   "source": [
    "x_train, x_test, y_train, y_test = train_test_split(X, y, test_size = 0.2, random_state = 42)"
   ]
  },
  {
   "cell_type": "code",
   "execution_count": 31,
   "id": "c5883641",
   "metadata": {
    "execution": {
     "iopub.execute_input": "2023-07-12T18:47:29.068037Z",
     "iopub.status.busy": "2023-07-12T18:47:29.067427Z",
     "iopub.status.idle": "2023-07-12T18:47:29.076733Z",
     "shell.execute_reply": "2023-07-12T18:47:29.075738Z"
    },
    "papermill": {
     "duration": 0.032775,
     "end_time": "2023-07-12T18:47:29.079117",
     "exception": false,
     "start_time": "2023-07-12T18:47:29.046342",
     "status": "completed"
    },
    "tags": []
   },
   "outputs": [],
   "source": [
    "df = pd.merge(x_test, y_test, how = 'inner', left_index = True, right_index = True)"
   ]
  },
  {
   "cell_type": "code",
   "execution_count": 32,
   "id": "a8827139",
   "metadata": {
    "execution": {
     "iopub.execute_input": "2023-07-12T18:47:29.121140Z",
     "iopub.status.busy": "2023-07-12T18:47:29.120715Z",
     "iopub.status.idle": "2023-07-12T18:47:29.293463Z",
     "shell.execute_reply": "2023-07-12T18:47:29.292605Z"
    },
    "papermill": {
     "duration": 0.197006,
     "end_time": "2023-07-12T18:47:29.295927",
     "exception": false,
     "start_time": "2023-07-12T18:47:29.098921",
     "status": "completed"
    },
    "tags": []
   },
   "outputs": [],
   "source": [
    "xgb = XGBRegressor()\n",
    "xgb.fit(x_train, y_train)\n",
    "y_pred = xgb.predict(x_test)"
   ]
  },
  {
   "cell_type": "code",
   "execution_count": 33,
   "id": "09f924c3",
   "metadata": {
    "execution": {
     "iopub.execute_input": "2023-07-12T18:47:29.338105Z",
     "iopub.status.busy": "2023-07-12T18:47:29.337294Z",
     "iopub.status.idle": "2023-07-12T18:47:29.348375Z",
     "shell.execute_reply": "2023-07-12T18:47:29.347528Z"
    },
    "papermill": {
     "duration": 0.034895,
     "end_time": "2023-07-12T18:47:29.351069",
     "exception": false,
     "start_time": "2023-07-12T18:47:29.316174",
     "status": "completed"
    },
    "tags": []
   },
   "outputs": [],
   "source": [
    "df['Prediction'] = xgb.predict(x_test)"
   ]
  },
  {
   "cell_type": "code",
   "execution_count": 34,
   "id": "8e4c5560",
   "metadata": {
    "execution": {
     "iopub.execute_input": "2023-07-12T18:47:29.392022Z",
     "iopub.status.busy": "2023-07-12T18:47:29.391612Z",
     "iopub.status.idle": "2023-07-12T18:47:29.403587Z",
     "shell.execute_reply": "2023-07-12T18:47:29.402752Z"
    },
    "papermill": {
     "duration": 0.034887,
     "end_time": "2023-07-12T18:47:29.405625",
     "exception": false,
     "start_time": "2023-07-12T18:47:29.370738",
     "status": "completed"
    },
    "tags": []
   },
   "outputs": [
    {
     "data": {
      "text/html": [
       "<div>\n",
       "<style scoped>\n",
       "    .dataframe tbody tr th:only-of-type {\n",
       "        vertical-align: middle;\n",
       "    }\n",
       "\n",
       "    .dataframe tbody tr th {\n",
       "        vertical-align: top;\n",
       "    }\n",
       "\n",
       "    .dataframe thead th {\n",
       "        text-align: right;\n",
       "    }\n",
       "</style>\n",
       "<table border=\"1\" class=\"dataframe\">\n",
       "  <thead>\n",
       "    <tr style=\"text-align: right;\">\n",
       "      <th></th>\n",
       "      <th>age</th>\n",
       "      <th>bmi</th>\n",
       "      <th>smoker</th>\n",
       "      <th>charges</th>\n",
       "      <th>Prediction</th>\n",
       "    </tr>\n",
       "  </thead>\n",
       "  <tbody>\n",
       "    <tr>\n",
       "      <th>1106</th>\n",
       "      <td>49</td>\n",
       "      <td>29.925</td>\n",
       "      <td>0</td>\n",
       "      <td>8988.15875</td>\n",
       "      <td>9331.247070</td>\n",
       "    </tr>\n",
       "    <tr>\n",
       "      <th>1321</th>\n",
       "      <td>62</td>\n",
       "      <td>26.695</td>\n",
       "      <td>1</td>\n",
       "      <td>28101.33305</td>\n",
       "      <td>28207.871094</td>\n",
       "    </tr>\n",
       "    <tr>\n",
       "      <th>2313</th>\n",
       "      <td>57</td>\n",
       "      <td>20.100</td>\n",
       "      <td>0</td>\n",
       "      <td>12032.32600</td>\n",
       "      <td>12109.324219</td>\n",
       "    </tr>\n",
       "    <tr>\n",
       "      <th>2274</th>\n",
       "      <td>22</td>\n",
       "      <td>39.500</td>\n",
       "      <td>0</td>\n",
       "      <td>1682.59700</td>\n",
       "      <td>1866.787476</td>\n",
       "    </tr>\n",
       "    <tr>\n",
       "      <th>1432</th>\n",
       "      <td>18</td>\n",
       "      <td>38.665</td>\n",
       "      <td>0</td>\n",
       "      <td>3393.35635</td>\n",
       "      <td>3533.201904</td>\n",
       "    </tr>\n",
       "  </tbody>\n",
       "</table>\n",
       "</div>"
      ],
      "text/plain": [
       "      age     bmi  smoker      charges    Prediction\n",
       "1106   49  29.925       0   8988.15875   9331.247070\n",
       "1321   62  26.695       1  28101.33305  28207.871094\n",
       "2313   57  20.100       0  12032.32600  12109.324219\n",
       "2274   22  39.500       0   1682.59700   1866.787476\n",
       "1432   18  38.665       0   3393.35635   3533.201904"
      ]
     },
     "execution_count": 34,
     "metadata": {},
     "output_type": "execute_result"
    }
   ],
   "source": [
    "df.head()"
   ]
  },
  {
   "cell_type": "code",
   "execution_count": 35,
   "id": "2efccc17",
   "metadata": {
    "execution": {
     "iopub.execute_input": "2023-07-12T18:47:29.447676Z",
     "iopub.status.busy": "2023-07-12T18:47:29.446979Z",
     "iopub.status.idle": "2023-07-12T18:47:29.453885Z",
     "shell.execute_reply": "2023-07-12T18:47:29.452895Z"
    },
    "papermill": {
     "duration": 0.030274,
     "end_time": "2023-07-12T18:47:29.455995",
     "exception": false,
     "start_time": "2023-07-12T18:47:29.425721",
     "status": "completed"
    },
    "tags": []
   },
   "outputs": [
    {
     "name": "stdout",
     "output_type": "stream",
     "text": [
      "0.9396670314008342\n",
      "Average Absolute error: $1479.66\n"
     ]
    }
   ],
   "source": [
    "print(r2_score(y_test, y_pred))\n",
    "mae = mean_absolute_error(y_test, y_pred)\n",
    "print('Average Absolute error:', '${:.2f}'.format(mae))"
   ]
  },
  {
   "cell_type": "markdown",
   "id": "2e2a5e07",
   "metadata": {
    "papermill": {
     "duration": 0.019446,
     "end_time": "2023-07-12T18:47:29.495293",
     "exception": false,
     "start_time": "2023-07-12T18:47:29.475847",
     "status": "completed"
    },
    "tags": []
   },
   "source": [
    "Using GridSearchCV to fetch the best parameters and score"
   ]
  },
  {
   "cell_type": "code",
   "execution_count": 36,
   "id": "05e08f01",
   "metadata": {
    "execution": {
     "iopub.execute_input": "2023-07-12T18:47:29.536986Z",
     "iopub.status.busy": "2023-07-12T18:47:29.536268Z",
     "iopub.status.idle": "2023-07-12T18:47:29.540538Z",
     "shell.execute_reply": "2023-07-12T18:47:29.539859Z"
    },
    "papermill": {
     "duration": 0.027364,
     "end_time": "2023-07-12T18:47:29.542473",
     "exception": false,
     "start_time": "2023-07-12T18:47:29.515109",
     "status": "completed"
    },
    "tags": []
   },
   "outputs": [],
   "source": [
    "param_grid = {\n",
    "    'n_estimators': [100, 300, 500],\n",
    "    'learning_rate': [0.01, 0.05, 0.1],\n",
    "    'max_depth': [3, 5, 7, 9]\n",
    "}"
   ]
  },
  {
   "cell_type": "code",
   "execution_count": 37,
   "id": "72f5d099",
   "metadata": {
    "execution": {
     "iopub.execute_input": "2023-07-12T18:47:29.583581Z",
     "iopub.status.busy": "2023-07-12T18:47:29.583192Z",
     "iopub.status.idle": "2023-07-12T18:47:29.588183Z",
     "shell.execute_reply": "2023-07-12T18:47:29.587164Z"
    },
    "papermill": {
     "duration": 0.028207,
     "end_time": "2023-07-12T18:47:29.590533",
     "exception": false,
     "start_time": "2023-07-12T18:47:29.562326",
     "status": "completed"
    },
    "tags": []
   },
   "outputs": [],
   "source": [
    "Grid = GridSearchCV(xgb, param_grid, cv = 10, scoring = 'neg_mean_squared_error')"
   ]
  },
  {
   "cell_type": "code",
   "execution_count": 38,
   "id": "6b452630",
   "metadata": {
    "execution": {
     "iopub.execute_input": "2023-07-12T18:47:29.632373Z",
     "iopub.status.busy": "2023-07-12T18:47:29.631387Z",
     "iopub.status.idle": "2023-07-12T18:50:11.027225Z",
     "shell.execute_reply": "2023-07-12T18:50:11.026146Z"
    },
    "papermill": {
     "duration": 161.441135,
     "end_time": "2023-07-12T18:50:11.051464",
     "exception": false,
     "start_time": "2023-07-12T18:47:29.610329",
     "status": "completed"
    },
    "tags": []
   },
   "outputs": [
    {
     "data": {
      "text/html": [
       "<style>#sk-container-id-1 {color: black;background-color: white;}#sk-container-id-1 pre{padding: 0;}#sk-container-id-1 div.sk-toggleable {background-color: white;}#sk-container-id-1 label.sk-toggleable__label {cursor: pointer;display: block;width: 100%;margin-bottom: 0;padding: 0.3em;box-sizing: border-box;text-align: center;}#sk-container-id-1 label.sk-toggleable__label-arrow:before {content: \"▸\";float: left;margin-right: 0.25em;color: #696969;}#sk-container-id-1 label.sk-toggleable__label-arrow:hover:before {color: black;}#sk-container-id-1 div.sk-estimator:hover label.sk-toggleable__label-arrow:before {color: black;}#sk-container-id-1 div.sk-toggleable__content {max-height: 0;max-width: 0;overflow: hidden;text-align: left;background-color: #f0f8ff;}#sk-container-id-1 div.sk-toggleable__content pre {margin: 0.2em;color: black;border-radius: 0.25em;background-color: #f0f8ff;}#sk-container-id-1 input.sk-toggleable__control:checked~div.sk-toggleable__content {max-height: 200px;max-width: 100%;overflow: auto;}#sk-container-id-1 input.sk-toggleable__control:checked~label.sk-toggleable__label-arrow:before {content: \"▾\";}#sk-container-id-1 div.sk-estimator input.sk-toggleable__control:checked~label.sk-toggleable__label {background-color: #d4ebff;}#sk-container-id-1 div.sk-label input.sk-toggleable__control:checked~label.sk-toggleable__label {background-color: #d4ebff;}#sk-container-id-1 input.sk-hidden--visually {border: 0;clip: rect(1px 1px 1px 1px);clip: rect(1px, 1px, 1px, 1px);height: 1px;margin: -1px;overflow: hidden;padding: 0;position: absolute;width: 1px;}#sk-container-id-1 div.sk-estimator {font-family: monospace;background-color: #f0f8ff;border: 1px dotted black;border-radius: 0.25em;box-sizing: border-box;margin-bottom: 0.5em;}#sk-container-id-1 div.sk-estimator:hover {background-color: #d4ebff;}#sk-container-id-1 div.sk-parallel-item::after {content: \"\";width: 100%;border-bottom: 1px solid gray;flex-grow: 1;}#sk-container-id-1 div.sk-label:hover label.sk-toggleable__label {background-color: #d4ebff;}#sk-container-id-1 div.sk-serial::before {content: \"\";position: absolute;border-left: 1px solid gray;box-sizing: border-box;top: 0;bottom: 0;left: 50%;z-index: 0;}#sk-container-id-1 div.sk-serial {display: flex;flex-direction: column;align-items: center;background-color: white;padding-right: 0.2em;padding-left: 0.2em;position: relative;}#sk-container-id-1 div.sk-item {position: relative;z-index: 1;}#sk-container-id-1 div.sk-parallel {display: flex;align-items: stretch;justify-content: center;background-color: white;position: relative;}#sk-container-id-1 div.sk-item::before, #sk-container-id-1 div.sk-parallel-item::before {content: \"\";position: absolute;border-left: 1px solid gray;box-sizing: border-box;top: 0;bottom: 0;left: 50%;z-index: -1;}#sk-container-id-1 div.sk-parallel-item {display: flex;flex-direction: column;z-index: 1;position: relative;background-color: white;}#sk-container-id-1 div.sk-parallel-item:first-child::after {align-self: flex-end;width: 50%;}#sk-container-id-1 div.sk-parallel-item:last-child::after {align-self: flex-start;width: 50%;}#sk-container-id-1 div.sk-parallel-item:only-child::after {width: 0;}#sk-container-id-1 div.sk-dashed-wrapped {border: 1px dashed gray;margin: 0 0.4em 0.5em 0.4em;box-sizing: border-box;padding-bottom: 0.4em;background-color: white;}#sk-container-id-1 div.sk-label label {font-family: monospace;font-weight: bold;display: inline-block;line-height: 1.2em;}#sk-container-id-1 div.sk-label-container {text-align: center;}#sk-container-id-1 div.sk-container {/* jupyter's `normalize.less` sets `[hidden] { display: none; }` but bootstrap.min.css set `[hidden] { display: none !important; }` so we also need the `!important` here to be able to override the default hidden behavior on the sphinx rendered scikit-learn.org. See: https://github.com/scikit-learn/scikit-learn/issues/21755 */display: inline-block !important;position: relative;}#sk-container-id-1 div.sk-text-repr-fallback {display: none;}</style><div id=\"sk-container-id-1\" class=\"sk-top-container\"><div class=\"sk-text-repr-fallback\"><pre>GridSearchCV(cv=10,\n",
       "             estimator=XGBRegressor(base_score=None, booster=None,\n",
       "                                    callbacks=None, colsample_bylevel=None,\n",
       "                                    colsample_bynode=None,\n",
       "                                    colsample_bytree=None,\n",
       "                                    early_stopping_rounds=None,\n",
       "                                    enable_categorical=False, eval_metric=None,\n",
       "                                    feature_types=None, gamma=None, gpu_id=None,\n",
       "                                    grow_policy=None, importance_type=None,\n",
       "                                    interaction_constraints=None,\n",
       "                                    learning_rate=None,...\n",
       "                                    max_cat_to_onehot=None, max_delta_step=None,\n",
       "                                    max_depth=None, max_leaves=None,\n",
       "                                    min_child_weight=None, missing=nan,\n",
       "                                    monotone_constraints=None, n_estimators=100,\n",
       "                                    n_jobs=None, num_parallel_tree=None,\n",
       "                                    predictor=None, random_state=None, ...),\n",
       "             param_grid={&#x27;learning_rate&#x27;: [0.01, 0.05, 0.1],\n",
       "                         &#x27;max_depth&#x27;: [3, 5, 7, 9],\n",
       "                         &#x27;n_estimators&#x27;: [100, 300, 500]},\n",
       "             scoring=&#x27;neg_mean_squared_error&#x27;)</pre><b>In a Jupyter environment, please rerun this cell to show the HTML representation or trust the notebook. <br />On GitHub, the HTML representation is unable to render, please try loading this page with nbviewer.org.</b></div><div class=\"sk-container\" hidden><div class=\"sk-item sk-dashed-wrapped\"><div class=\"sk-label-container\"><div class=\"sk-label sk-toggleable\"><input class=\"sk-toggleable__control sk-hidden--visually\" id=\"sk-estimator-id-1\" type=\"checkbox\" ><label for=\"sk-estimator-id-1\" class=\"sk-toggleable__label sk-toggleable__label-arrow\">GridSearchCV</label><div class=\"sk-toggleable__content\"><pre>GridSearchCV(cv=10,\n",
       "             estimator=XGBRegressor(base_score=None, booster=None,\n",
       "                                    callbacks=None, colsample_bylevel=None,\n",
       "                                    colsample_bynode=None,\n",
       "                                    colsample_bytree=None,\n",
       "                                    early_stopping_rounds=None,\n",
       "                                    enable_categorical=False, eval_metric=None,\n",
       "                                    feature_types=None, gamma=None, gpu_id=None,\n",
       "                                    grow_policy=None, importance_type=None,\n",
       "                                    interaction_constraints=None,\n",
       "                                    learning_rate=None,...\n",
       "                                    max_cat_to_onehot=None, max_delta_step=None,\n",
       "                                    max_depth=None, max_leaves=None,\n",
       "                                    min_child_weight=None, missing=nan,\n",
       "                                    monotone_constraints=None, n_estimators=100,\n",
       "                                    n_jobs=None, num_parallel_tree=None,\n",
       "                                    predictor=None, random_state=None, ...),\n",
       "             param_grid={&#x27;learning_rate&#x27;: [0.01, 0.05, 0.1],\n",
       "                         &#x27;max_depth&#x27;: [3, 5, 7, 9],\n",
       "                         &#x27;n_estimators&#x27;: [100, 300, 500]},\n",
       "             scoring=&#x27;neg_mean_squared_error&#x27;)</pre></div></div></div><div class=\"sk-parallel\"><div class=\"sk-parallel-item\"><div class=\"sk-item\"><div class=\"sk-label-container\"><div class=\"sk-label sk-toggleable\"><input class=\"sk-toggleable__control sk-hidden--visually\" id=\"sk-estimator-id-2\" type=\"checkbox\" ><label for=\"sk-estimator-id-2\" class=\"sk-toggleable__label sk-toggleable__label-arrow\">estimator: XGBRegressor</label><div class=\"sk-toggleable__content\"><pre>XGBRegressor(base_score=None, booster=None, callbacks=None,\n",
       "             colsample_bylevel=None, colsample_bynode=None,\n",
       "             colsample_bytree=None, early_stopping_rounds=None,\n",
       "             enable_categorical=False, eval_metric=None, feature_types=None,\n",
       "             gamma=None, gpu_id=None, grow_policy=None, importance_type=None,\n",
       "             interaction_constraints=None, learning_rate=None, max_bin=None,\n",
       "             max_cat_threshold=None, max_cat_to_onehot=None,\n",
       "             max_delta_step=None, max_depth=None, max_leaves=None,\n",
       "             min_child_weight=None, missing=nan, monotone_constraints=None,\n",
       "             n_estimators=100, n_jobs=None, num_parallel_tree=None,\n",
       "             predictor=None, random_state=None, ...)</pre></div></div></div><div class=\"sk-serial\"><div class=\"sk-item\"><div class=\"sk-estimator sk-toggleable\"><input class=\"sk-toggleable__control sk-hidden--visually\" id=\"sk-estimator-id-3\" type=\"checkbox\" ><label for=\"sk-estimator-id-3\" class=\"sk-toggleable__label sk-toggleable__label-arrow\">XGBRegressor</label><div class=\"sk-toggleable__content\"><pre>XGBRegressor(base_score=None, booster=None, callbacks=None,\n",
       "             colsample_bylevel=None, colsample_bynode=None,\n",
       "             colsample_bytree=None, early_stopping_rounds=None,\n",
       "             enable_categorical=False, eval_metric=None, feature_types=None,\n",
       "             gamma=None, gpu_id=None, grow_policy=None, importance_type=None,\n",
       "             interaction_constraints=None, learning_rate=None, max_bin=None,\n",
       "             max_cat_threshold=None, max_cat_to_onehot=None,\n",
       "             max_delta_step=None, max_depth=None, max_leaves=None,\n",
       "             min_child_weight=None, missing=nan, monotone_constraints=None,\n",
       "             n_estimators=100, n_jobs=None, num_parallel_tree=None,\n",
       "             predictor=None, random_state=None, ...)</pre></div></div></div></div></div></div></div></div></div></div>"
      ],
      "text/plain": [
       "GridSearchCV(cv=10,\n",
       "             estimator=XGBRegressor(base_score=None, booster=None,\n",
       "                                    callbacks=None, colsample_bylevel=None,\n",
       "                                    colsample_bynode=None,\n",
       "                                    colsample_bytree=None,\n",
       "                                    early_stopping_rounds=None,\n",
       "                                    enable_categorical=False, eval_metric=None,\n",
       "                                    feature_types=None, gamma=None, gpu_id=None,\n",
       "                                    grow_policy=None, importance_type=None,\n",
       "                                    interaction_constraints=None,\n",
       "                                    learning_rate=None,...\n",
       "                                    max_cat_to_onehot=None, max_delta_step=None,\n",
       "                                    max_depth=None, max_leaves=None,\n",
       "                                    min_child_weight=None, missing=nan,\n",
       "                                    monotone_constraints=None, n_estimators=100,\n",
       "                                    n_jobs=None, num_parallel_tree=None,\n",
       "                                    predictor=None, random_state=None, ...),\n",
       "             param_grid={'learning_rate': [0.01, 0.05, 0.1],\n",
       "                         'max_depth': [3, 5, 7, 9],\n",
       "                         'n_estimators': [100, 300, 500]},\n",
       "             scoring='neg_mean_squared_error')"
      ]
     },
     "execution_count": 38,
     "metadata": {},
     "output_type": "execute_result"
    }
   ],
   "source": [
    "Grid.fit(x_train, y_train)"
   ]
  },
  {
   "cell_type": "code",
   "execution_count": 39,
   "id": "74c2b3f9",
   "metadata": {
    "execution": {
     "iopub.execute_input": "2023-07-12T18:50:11.095269Z",
     "iopub.status.busy": "2023-07-12T18:50:11.094883Z",
     "iopub.status.idle": "2023-07-12T18:50:11.099989Z",
     "shell.execute_reply": "2023-07-12T18:50:11.098885Z"
    },
    "papermill": {
     "duration": 0.029694,
     "end_time": "2023-07-12T18:50:11.102189",
     "exception": false,
     "start_time": "2023-07-12T18:50:11.072495",
     "status": "completed"
    },
    "tags": []
   },
   "outputs": [],
   "source": [
    "best_params = Grid.best_params_\n",
    "best_score = np.abs(Grid.best_score_)"
   ]
  },
  {
   "cell_type": "code",
   "execution_count": 40,
   "id": "9a666184",
   "metadata": {
    "execution": {
     "iopub.execute_input": "2023-07-12T18:50:11.145273Z",
     "iopub.status.busy": "2023-07-12T18:50:11.144908Z",
     "iopub.status.idle": "2023-07-12T18:50:11.149929Z",
     "shell.execute_reply": "2023-07-12T18:50:11.148894Z"
    },
    "papermill": {
     "duration": 0.029259,
     "end_time": "2023-07-12T18:50:11.152408",
     "exception": false,
     "start_time": "2023-07-12T18:50:11.123149",
     "status": "completed"
    },
    "tags": []
   },
   "outputs": [
    {
     "name": "stdout",
     "output_type": "stream",
     "text": [
      "{'learning_rate': 0.1, 'max_depth': 7, 'n_estimators': 500}\n",
      "9644365.694026949\n"
     ]
    }
   ],
   "source": [
    "print(best_params)\n",
    "print(best_score)"
   ]
  },
  {
   "cell_type": "markdown",
   "id": "4c92d736",
   "metadata": {
    "papermill": {
     "duration": 0.021155,
     "end_time": "2023-07-12T18:50:11.194418",
     "exception": false,
     "start_time": "2023-07-12T18:50:11.173263",
     "status": "completed"
    },
    "tags": []
   },
   "source": [
    "Now using the best parameter values to create XGBoostRegressor"
   ]
  },
  {
   "cell_type": "code",
   "execution_count": 41,
   "id": "cbb32077",
   "metadata": {
    "execution": {
     "iopub.execute_input": "2023-07-12T18:50:11.237994Z",
     "iopub.status.busy": "2023-07-12T18:50:11.237589Z",
     "iopub.status.idle": "2023-07-12T18:50:12.040864Z",
     "shell.execute_reply": "2023-07-12T18:50:12.039775Z"
    },
    "papermill": {
     "duration": 0.828413,
     "end_time": "2023-07-12T18:50:12.043640",
     "exception": false,
     "start_time": "2023-07-12T18:50:11.215227",
     "status": "completed"
    },
    "tags": []
   },
   "outputs": [],
   "source": [
    "xgb = XGBRegressor(n_estimators = 500, max_depth = 7, learning_rate = 0.1)\n",
    "xgb.fit(x_train, y_train)\n",
    "y_pred1 = xgb.predict(x_test)"
   ]
  },
  {
   "cell_type": "code",
   "execution_count": 42,
   "id": "6696321e",
   "metadata": {
    "execution": {
     "iopub.execute_input": "2023-07-12T18:50:12.088063Z",
     "iopub.status.busy": "2023-07-12T18:50:12.087665Z",
     "iopub.status.idle": "2023-07-12T18:50:12.102583Z",
     "shell.execute_reply": "2023-07-12T18:50:12.101726Z"
    },
    "papermill": {
     "duration": 0.039472,
     "end_time": "2023-07-12T18:50:12.104638",
     "exception": false,
     "start_time": "2023-07-12T18:50:12.065166",
     "status": "completed"
    },
    "tags": []
   },
   "outputs": [],
   "source": [
    "df['Prediction-Optimized'] = xgb.predict(x_test)"
   ]
  },
  {
   "cell_type": "code",
   "execution_count": 43,
   "id": "98d8c5e0",
   "metadata": {
    "execution": {
     "iopub.execute_input": "2023-07-12T18:50:12.148724Z",
     "iopub.status.busy": "2023-07-12T18:50:12.148016Z",
     "iopub.status.idle": "2023-07-12T18:50:12.162177Z",
     "shell.execute_reply": "2023-07-12T18:50:12.161210Z"
    },
    "papermill": {
     "duration": 0.038665,
     "end_time": "2023-07-12T18:50:12.164513",
     "exception": false,
     "start_time": "2023-07-12T18:50:12.125848",
     "status": "completed"
    },
    "tags": []
   },
   "outputs": [
    {
     "data": {
      "text/html": [
       "<div>\n",
       "<style scoped>\n",
       "    .dataframe tbody tr th:only-of-type {\n",
       "        vertical-align: middle;\n",
       "    }\n",
       "\n",
       "    .dataframe tbody tr th {\n",
       "        vertical-align: top;\n",
       "    }\n",
       "\n",
       "    .dataframe thead th {\n",
       "        text-align: right;\n",
       "    }\n",
       "</style>\n",
       "<table border=\"1\" class=\"dataframe\">\n",
       "  <thead>\n",
       "    <tr style=\"text-align: right;\">\n",
       "      <th></th>\n",
       "      <th>age</th>\n",
       "      <th>bmi</th>\n",
       "      <th>smoker</th>\n",
       "      <th>charges</th>\n",
       "      <th>Prediction</th>\n",
       "      <th>Prediction-Optimized</th>\n",
       "    </tr>\n",
       "  </thead>\n",
       "  <tbody>\n",
       "    <tr>\n",
       "      <th>821</th>\n",
       "      <td>26</td>\n",
       "      <td>17.670</td>\n",
       "      <td>0</td>\n",
       "      <td>2680.94930</td>\n",
       "      <td>2449.844238</td>\n",
       "      <td>2513.715332</td>\n",
       "    </tr>\n",
       "    <tr>\n",
       "      <th>507</th>\n",
       "      <td>21</td>\n",
       "      <td>23.750</td>\n",
       "      <td>0</td>\n",
       "      <td>3077.09550</td>\n",
       "      <td>2783.967285</td>\n",
       "      <td>3066.960693</td>\n",
       "    </tr>\n",
       "    <tr>\n",
       "      <th>134</th>\n",
       "      <td>20</td>\n",
       "      <td>28.785</td>\n",
       "      <td>0</td>\n",
       "      <td>2457.21115</td>\n",
       "      <td>1855.519775</td>\n",
       "      <td>2239.873779</td>\n",
       "    </tr>\n",
       "    <tr>\n",
       "      <th>233</th>\n",
       "      <td>59</td>\n",
       "      <td>27.500</td>\n",
       "      <td>0</td>\n",
       "      <td>12333.82800</td>\n",
       "      <td>12318.032227</td>\n",
       "      <td>12214.136719</td>\n",
       "    </tr>\n",
       "    <tr>\n",
       "      <th>2149</th>\n",
       "      <td>27</td>\n",
       "      <td>26.030</td>\n",
       "      <td>0</td>\n",
       "      <td>3070.80870</td>\n",
       "      <td>3528.569336</td>\n",
       "      <td>3074.809814</td>\n",
       "    </tr>\n",
       "    <tr>\n",
       "      <th>1760</th>\n",
       "      <td>20</td>\n",
       "      <td>33.330</td>\n",
       "      <td>0</td>\n",
       "      <td>1391.52870</td>\n",
       "      <td>1951.523560</td>\n",
       "      <td>1275.544678</td>\n",
       "    </tr>\n",
       "    <tr>\n",
       "      <th>1229</th>\n",
       "      <td>58</td>\n",
       "      <td>30.305</td>\n",
       "      <td>0</td>\n",
       "      <td>11938.25595</td>\n",
       "      <td>11530.125977</td>\n",
       "      <td>11977.146484</td>\n",
       "    </tr>\n",
       "    <tr>\n",
       "      <th>1128</th>\n",
       "      <td>34</td>\n",
       "      <td>32.800</td>\n",
       "      <td>0</td>\n",
       "      <td>14358.36437</td>\n",
       "      <td>5369.840820</td>\n",
       "      <td>5360.046875</td>\n",
       "    </tr>\n",
       "    <tr>\n",
       "      <th>2686</th>\n",
       "      <td>45</td>\n",
       "      <td>30.360</td>\n",
       "      <td>1</td>\n",
       "      <td>62592.87309</td>\n",
       "      <td>61399.796875</td>\n",
       "      <td>62156.621094</td>\n",
       "    </tr>\n",
       "    <tr>\n",
       "      <th>2434</th>\n",
       "      <td>25</td>\n",
       "      <td>22.515</td>\n",
       "      <td>0</td>\n",
       "      <td>3594.17085</td>\n",
       "      <td>3432.581787</td>\n",
       "      <td>3574.805176</td>\n",
       "    </tr>\n",
       "  </tbody>\n",
       "</table>\n",
       "</div>"
      ],
      "text/plain": [
       "      age     bmi  smoker      charges    Prediction  Prediction-Optimized\n",
       "821    26  17.670       0   2680.94930   2449.844238           2513.715332\n",
       "507    21  23.750       0   3077.09550   2783.967285           3066.960693\n",
       "134    20  28.785       0   2457.21115   1855.519775           2239.873779\n",
       "233    59  27.500       0  12333.82800  12318.032227          12214.136719\n",
       "2149   27  26.030       0   3070.80870   3528.569336           3074.809814\n",
       "1760   20  33.330       0   1391.52870   1951.523560           1275.544678\n",
       "1229   58  30.305       0  11938.25595  11530.125977          11977.146484\n",
       "1128   34  32.800       0  14358.36437   5369.840820           5360.046875\n",
       "2686   45  30.360       1  62592.87309  61399.796875          62156.621094\n",
       "2434   25  22.515       0   3594.17085   3432.581787           3574.805176"
      ]
     },
     "execution_count": 43,
     "metadata": {},
     "output_type": "execute_result"
    }
   ],
   "source": [
    "df.sample(10)"
   ]
  },
  {
   "cell_type": "code",
   "execution_count": 44,
   "id": "8c919e9a",
   "metadata": {
    "execution": {
     "iopub.execute_input": "2023-07-12T18:50:12.209636Z",
     "iopub.status.busy": "2023-07-12T18:50:12.209258Z",
     "iopub.status.idle": "2023-07-12T18:50:12.216991Z",
     "shell.execute_reply": "2023-07-12T18:50:12.215787Z"
    },
    "papermill": {
     "duration": 0.033289,
     "end_time": "2023-07-12T18:50:12.219213",
     "exception": false,
     "start_time": "2023-07-12T18:50:12.185924",
     "status": "completed"
    },
    "tags": []
   },
   "outputs": [
    {
     "name": "stdout",
     "output_type": "stream",
     "text": [
      "0.9464500320045318\n",
      "Average Absolute error: $1043.79\n"
     ]
    }
   ],
   "source": [
    "print(r2_score(y_test, y_pred1))\n",
    "mae1 = mean_absolute_error(y_test, y_pred1)\n",
    "print(\"Average Absolute error:\", \"${:.2f}\".format(mae1))"
   ]
  },
  {
   "cell_type": "markdown",
   "id": "f0be1f06",
   "metadata": {
    "papermill": {
     "duration": 0.020931,
     "end_time": "2023-07-12T18:50:12.261510",
     "exception": false,
     "start_time": "2023-07-12T18:50:12.240579",
     "status": "completed"
    },
    "tags": []
   },
   "source": [
    "- R2 Score increased from 0.9396670314008342 ---> 0.9464500320045318\n",
    "- Average error in prediction is about 1000 dollars"
   ]
  },
  {
   "cell_type": "code",
   "execution_count": 45,
   "id": "7e4b7c05",
   "metadata": {
    "execution": {
     "iopub.execute_input": "2023-07-12T18:50:12.305602Z",
     "iopub.status.busy": "2023-07-12T18:50:12.304810Z",
     "iopub.status.idle": "2023-07-12T18:50:12.317681Z",
     "shell.execute_reply": "2023-07-12T18:50:12.316887Z"
    },
    "papermill": {
     "duration": 0.039566,
     "end_time": "2023-07-12T18:50:12.322021",
     "exception": false,
     "start_time": "2023-07-12T18:50:12.282455",
     "status": "completed"
    },
    "tags": []
   },
   "outputs": [
    {
     "data": {
      "text/plain": [
       "array([4809.1035], dtype=float32)"
      ]
     },
     "execution_count": 45,
     "metadata": {},
     "output_type": "execute_result"
    }
   ],
   "source": [
    "xgb.predict(pd.DataFrame([[25, 24, 0]], columns = ['age', 'bmi', 'smoker']))"
   ]
  },
  {
   "cell_type": "markdown",
   "id": "69128d41",
   "metadata": {
    "papermill": {
     "duration": 0.021331,
     "end_time": "2023-07-12T18:50:12.365048",
     "exception": false,
     "start_time": "2023-07-12T18:50:12.343717",
     "status": "completed"
    },
    "tags": []
   },
   "source": [
    "I entered a sample for a healthy person and the medical insurance is of 4809 dollars which is almost 25 percentile of data, this value is great considering the mean value is around 13500 dollars"
   ]
  },
  {
   "cell_type": "code",
   "execution_count": 46,
   "id": "c284ee06",
   "metadata": {
    "execution": {
     "iopub.execute_input": "2023-07-12T18:50:12.411787Z",
     "iopub.status.busy": "2023-07-12T18:50:12.410490Z",
     "iopub.status.idle": "2023-07-12T18:50:12.426834Z",
     "shell.execute_reply": "2023-07-12T18:50:12.425514Z"
    },
    "papermill": {
     "duration": 0.041529,
     "end_time": "2023-07-12T18:50:12.429009",
     "exception": false,
     "start_time": "2023-07-12T18:50:12.387480",
     "status": "completed"
    },
    "tags": []
   },
   "outputs": [
    {
     "data": {
      "text/plain": [
       "array([19066.861], dtype=float32)"
      ]
     },
     "execution_count": 46,
     "metadata": {},
     "output_type": "execute_result"
    }
   ],
   "source": [
    "xgb.predict(pd.DataFrame([[40, 30, 1]], columns = ['age', 'bmi', 'smoker']))"
   ]
  },
  {
   "cell_type": "markdown",
   "id": "ad333ce2",
   "metadata": {
    "papermill": {
     "duration": 0.021016,
     "end_time": "2023-07-12T18:50:12.471508",
     "exception": false,
     "start_time": "2023-07-12T18:50:12.450492",
     "status": "completed"
    },
    "tags": []
   },
   "source": [
    "A person who is 40 years old having a BMI of 30 which is overweight and that too a smoker has to pay around 20k dollars for medical insurance which is very high"
   ]
  }
 ],
 "metadata": {
  "kernelspec": {
   "display_name": "Python 3",
   "language": "python",
   "name": "python3"
  },
  "language_info": {
   "codemirror_mode": {
    "name": "ipython",
    "version": 3
   },
   "file_extension": ".py",
   "mimetype": "text/x-python",
   "name": "python",
   "nbconvert_exporter": "python",
   "pygments_lexer": "ipython3",
   "version": "3.10.12"
  },
  "papermill": {
   "default_parameters": {},
   "duration": 182.953923,
   "end_time": "2023-07-12T18:50:13.516331",
   "environment_variables": {},
   "exception": null,
   "input_path": "__notebook__.ipynb",
   "output_path": "__notebook__.ipynb",
   "parameters": {},
   "start_time": "2023-07-12T18:47:10.562408",
   "version": "2.4.0"
  }
 },
 "nbformat": 4,
 "nbformat_minor": 5
}
